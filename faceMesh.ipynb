{
 "cells": [
  {
   "cell_type": "code",
   "execution_count": 2,
   "id": "11912b91",
   "metadata": {},
   "outputs": [],
   "source": [
    "import cv2\n",
    "import mediapipe as mp\n",
    "import time\n",
    "\n",
    "\n",
    "cap= cv2.VideoCapture(0)\n",
    "\n",
    "mpDraw=mp.solutions.drawing_utils\n",
    "mpFaceMesh= mp.solutions.face_mesh\n",
    "faceMesh=mpFaceMesh.FaceMesh(max_num_faces=2)\n",
    "drawSpec = mpDraw.DrawingSpec(thickness=1, circle_radius=1)\n",
    "pTime=0\n",
    "\n",
    "while True:\n",
    "    success, img= cap.read()\n",
    "    imgRGB =cv2.cvtColor(img, cv2.COLOR_BGR2RGB)\n",
    "    results= faceMesh.process(imgRGB)\n",
    "    \n",
    "    \n",
    "    if results.multi_face_landmarks:\n",
    "        for faceLms in results.multi_face_landmarks:\n",
    "            mpDraw.draw_landmarks(img, faceLms, mpFaceMesh.FACEMESH_TESSELATION, drawSpec, drawSpec)\n",
    "            \n",
    "    cTime=time.time()\n",
    "    fps = 1/(cTime-pTime)\n",
    "    pTime=cTime\n",
    "    \n",
    "    cv2.putText(img, f'FPS:{int(fps)}', (20,70),cv2.FONT_HERSHEY_PLAIN, 3, (0,255,0),3)\n",
    "    cv2.imshow(\"Image\", img)\n",
    "    \n",
    "    if cv2.waitKey(1) & 0xff == ord(\"q\"):\n",
    "        break\n",
    "cap.release()\n",
    "cv2.destroyAllWindows()"
   ]
  }
 ],
 "metadata": {
  "kernelspec": {
   "display_name": "Python 3",
   "language": "python",
   "name": "python3"
  },
  "language_info": {
   "codemirror_mode": {
    "name": "ipython",
    "version": 3
   },
   "file_extension": ".py",
   "mimetype": "text/x-python",
   "name": "python",
   "nbconvert_exporter": "python",
   "pygments_lexer": "ipython3",
   "version": "3.8.8"
  }
 },
 "nbformat": 4,
 "nbformat_minor": 5
}
